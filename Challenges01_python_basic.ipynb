{
 "cells": [
  {
   "cell_type": "code",
   "execution_count": 7,
   "id": "c9f14f88",
   "metadata": {},
   "outputs": [],
   "source": [
    "s = \"this is My First Python programming class and i am learNING python string and its function\""
   ]
  },
  {
   "cell_type": "code",
   "execution_count": 8,
   "id": "e0b873c7",
   "metadata": {},
   "outputs": [
    {
     "data": {
      "text/plain": [
       "'tssyityopgmncsa alrNph rgni ni'"
      ]
     },
     "execution_count": 8,
     "metadata": {},
     "output_type": "execute_result"
    }
   ],
   "source": [
    "#1 . Try to extract data from index one to index 300 with a jump of 3 \n",
    "s[:301:3]"
   ]
  },
  {
   "cell_type": "code",
   "execution_count": 11,
   "id": "2fa4a152",
   "metadata": {},
   "outputs": [
    {
     "data": {
      "text/plain": [
       "'noitcnuf sti dna gnirts nohtyp GNINrael ma i dna ssalc gnimmargorp nohtyP tsriF yM si siht'"
      ]
     },
     "execution_count": 11,
     "metadata": {},
     "output_type": "execute_result"
    }
   ],
   "source": [
    "#2. Try to reverse a string without using reverse function \n",
    "s[-1:-300:-1]"
   ]
  },
  {
   "cell_type": "code",
   "execution_count": 12,
   "id": "b3e1456c",
   "metadata": {},
   "outputs": [
    {
     "data": {
      "text/plain": [
       "'noitcnuf sti dna gnirts nohtyp GNINrael ma i dna ssalc gnimmargorp nohtyP tsriF yM si siht'"
      ]
     },
     "execution_count": 12,
     "metadata": {},
     "output_type": "execute_result"
    }
   ],
   "source": [
    "s[::-1]"
   ]
  },
  {
   "cell_type": "code",
   "execution_count": 30,
   "id": "cd90773c",
   "metadata": {},
   "outputs": [],
   "source": [
    "# Try to split a string after conversion of entire string in uppercase \n",
    "s1 = s.upper()\n"
   ]
  },
  {
   "cell_type": "code",
   "execution_count": 28,
   "id": "7dcf5d33",
   "metadata": {},
   "outputs": [
    {
     "data": {
      "text/plain": [
       "'THIS IS MY FIRST PYTHON PROGRAMMING CLASS AND I AM LEARNING PYTHON STRING AND ITS FUNCTION'"
      ]
     },
     "execution_count": 28,
     "metadata": {},
     "output_type": "execute_result"
    }
   ],
   "source": [
    "s1\n",
    "  "
   ]
  },
  {
   "cell_type": "code",
   "execution_count": 31,
   "id": "9a03987a",
   "metadata": {},
   "outputs": [
    {
     "data": {
      "text/plain": [
       "['THIS',\n",
       " 'IS',\n",
       " 'MY',\n",
       " 'FIRST',\n",
       " 'PYTHON',\n",
       " 'PROGRAMMING',\n",
       " 'CLASS',\n",
       " 'AND',\n",
       " 'I',\n",
       " 'AM',\n",
       " 'LEARNING',\n",
       " 'PYTHON',\n",
       " 'STRING',\n",
       " 'AND',\n",
       " 'ITS',\n",
       " 'FUNCTION']"
      ]
     },
     "execution_count": 31,
     "metadata": {},
     "output_type": "execute_result"
    }
   ],
   "source": [
    "s1.split()"
   ]
  },
  {
   "cell_type": "code",
   "execution_count": 32,
   "id": "b30df8dc",
   "metadata": {},
   "outputs": [
    {
     "data": {
      "text/plain": [
       "'this is my first python programming class and i am learning python string and its function'"
      ]
     },
     "execution_count": 32,
     "metadata": {},
     "output_type": "execute_result"
    }
   ],
   "source": [
    "#try to convert the whole string into lower case \n",
    "s1.lower()"
   ]
  },
  {
   "cell_type": "code",
   "execution_count": 33,
   "id": "19979dc0",
   "metadata": {},
   "outputs": [
    {
     "data": {
      "text/plain": [
       "'this is my first python programming class and i am learning python string and its function'"
      ]
     },
     "execution_count": 33,
     "metadata": {},
     "output_type": "execute_result"
    }
   ],
   "source": [
    "s.lower()"
   ]
  },
  {
   "cell_type": "code",
   "execution_count": null,
   "id": "386c1974",
   "metadata": {},
   "outputs": [],
   "source": [
    "#Try to capitalize the whole string "
   ]
  },
  {
   "cell_type": "code",
   "execution_count": 34,
   "id": "21b1cb20",
   "metadata": {},
   "outputs": [
    {
     "data": {
      "text/plain": [
       "'This is my first python programming class and i am learning python string and its function'"
      ]
     },
     "execution_count": 34,
     "metadata": {},
     "output_type": "execute_result"
    }
   ],
   "source": [
    "s.capitalize()"
   ]
  },
  {
   "cell_type": "code",
   "execution_count": 35,
   "id": "d7c8d930",
   "metadata": {},
   "outputs": [
    {
     "data": {
      "text/plain": [
       "True"
      ]
     },
     "execution_count": 35,
     "metadata": {},
     "output_type": "execute_result"
    }
   ],
   "source": [
    "#Write a diference between isalnum() and isalpha()\n",
    "\n",
    "v = \"vishal\"\n",
    "v.isalnum()"
   ]
  },
  {
   "cell_type": "code",
   "execution_count": 36,
   "id": "a6cb04ad",
   "metadata": {},
   "outputs": [
    {
     "data": {
      "text/plain": [
       "<function str.isalpha()>"
      ]
     },
     "execution_count": 36,
     "metadata": {},
     "output_type": "execute_result"
    }
   ],
   "source": [
    "v.isalpha"
   ]
  },
  {
   "cell_type": "code",
   "execution_count": 38,
   "id": "9a3452ff",
   "metadata": {},
   "outputs": [],
   "source": [
    "d=\"cvgfg125\""
   ]
  },
  {
   "cell_type": "code",
   "execution_count": 39,
   "id": "817add56",
   "metadata": {},
   "outputs": [
    {
     "data": {
      "text/plain": [
       "False"
      ]
     },
     "execution_count": 39,
     "metadata": {},
     "output_type": "execute_result"
    }
   ],
   "source": [
    "d.isalpha()"
   ]
  },
  {
   "cell_type": "code",
   "execution_count": 40,
   "id": "78d8ab04",
   "metadata": {},
   "outputs": [
    {
     "data": {
      "text/plain": [
       "True"
      ]
     },
     "execution_count": 40,
     "metadata": {},
     "output_type": "execute_result"
    }
   ],
   "source": [
    "d.isalnum()"
   ]
  },
  {
   "cell_type": "code",
   "execution_count": null,
   "id": "da17d9bd",
   "metadata": {},
   "outputs": [],
   "source": [
    "#Try to give an example of expand tab\n"
   ]
  },
  {
   "cell_type": "code",
   "execution_count": 48,
   "id": "bc145f93",
   "metadata": {},
   "outputs": [],
   "source": [
    "b = \"xgfgf\\tccm\\t123\""
   ]
  },
  {
   "cell_type": "code",
   "execution_count": 49,
   "id": "c08c6018",
   "metadata": {},
   "outputs": [
    {
     "data": {
      "text/plain": [
       "'xgfgf   ccm     123'"
      ]
     },
     "execution_count": 49,
     "metadata": {},
     "output_type": "execute_result"
    }
   ],
   "source": [
    "b.expandtabs()"
   ]
  },
  {
   "cell_type": "code",
   "execution_count": 43,
   "id": "1ec751dc",
   "metadata": {},
   "outputs": [],
   "source": [
    "#Give an example of strip , lstrip and rstrip \n",
    "v = \"    vishal     \""
   ]
  },
  {
   "cell_type": "code",
   "execution_count": 44,
   "id": "53e476c0",
   "metadata": {},
   "outputs": [
    {
     "data": {
      "text/plain": [
       "'vishal'"
      ]
     },
     "execution_count": 44,
     "metadata": {},
     "output_type": "execute_result"
    }
   ],
   "source": [
    "v.strip()"
   ]
  },
  {
   "cell_type": "code",
   "execution_count": 45,
   "id": "ec72e3dc",
   "metadata": {},
   "outputs": [
    {
     "data": {
      "text/plain": [
       "'vishal     '"
      ]
     },
     "execution_count": 45,
     "metadata": {},
     "output_type": "execute_result"
    }
   ],
   "source": [
    "v.lstrip()"
   ]
  },
  {
   "cell_type": "code",
   "execution_count": 47,
   "id": "de9aaf72",
   "metadata": {},
   "outputs": [
    {
     "data": {
      "text/plain": [
       "'    vishal'"
      ]
     },
     "execution_count": 47,
     "metadata": {},
     "output_type": "execute_result"
    }
   ],
   "source": [
    "v.rstrip()"
   ]
  },
  {
   "cell_type": "code",
   "execution_count": null,
   "id": "8a04a92e",
   "metadata": {},
   "outputs": [],
   "source": [
    "#9.  Replace a string charecter by another charector by taking your own example \n"
   ]
  },
  {
   "cell_type": "code",
   "execution_count": 50,
   "id": "42a7679c",
   "metadata": {},
   "outputs": [],
   "source": [
    "d = \"vishal kumar\""
   ]
  },
  {
   "cell_type": "code",
   "execution_count": 51,
   "id": "7eb2b7bf",
   "metadata": {},
   "outputs": [
    {
     "data": {
      "text/plain": [
       "'vishal gupta'"
      ]
     },
     "execution_count": 51,
     "metadata": {},
     "output_type": "execute_result"
    }
   ],
   "source": [
    "d.replace(\"kumar\",\"gupta\")"
   ]
  },
  {
   "cell_type": "code",
   "execution_count": 55,
   "id": "00f51ac8",
   "metadata": {},
   "outputs": [
    {
     "data": {
      "text/plain": [
       "'@@@@vishal kumar@@@@'"
      ]
     },
     "execution_count": 55,
     "metadata": {},
     "output_type": "execute_result"
    }
   ],
   "source": [
    "#10 . Try  to give a defination of string center function with and exmple \n",
    "d.center(20, \"@\")"
   ]
  },
  {
   "cell_type": "markdown",
   "id": "44d0a7fc",
   "metadata": {},
   "source": [
    "# 11 . Write your own definition of compiler and interpretor without copy paste form internet in your own language\n",
    "\n",
    "Compiler: it is a program that translates the code written by person into a language recoginised by computer.\n",
    "    it translate the whole code at once. The code execution is fast as compared to interpreter.\n",
    "Interpreter: it is also a program that translates the code written by person in a language recoginised by computer,\n",
    "    but the difference is that it translates the each code line one by one, hence the code execution is slow, but \n",
    "    advantage is that it stops at that line where code is incorrect."
   ]
  },
  {
   "cell_type": "markdown",
   "id": "914e252e",
   "metadata": {},
   "source": [
    "# 12 . Python is a interpreted of compiled language give a clear ans with your understanding \n",
    "\n",
    "-python is compiled as well as interpreted language. in python to converts the high level language in to \n",
    "low level laguage the terms compiler cames in to the picture.\n",
    "-In python when we execute the program 1st the compiler converts the source code in to byte code and then interpreter converts \n",
    "the byte code in to machine level language.\n",
    "\n",
    "source code--->compiler--->byte code--->interpreter--->machine code\n",
    "                                        (Virtual \n",
    "                                        machine(PVM))\n",
    "-in python the process of execution is bit different because to make the program platform independence(we can write code once\n",
    "and can run in differenr platform).As the machine changes the cpu architecture also changes so if we are writting some code \n",
    "in one machine it may not be executed in other so to resolve this problem virtual machines converts the byte code in to machine\n",
    "code and make it platform indepndent."
   ]
  },
  {
   "cell_type": "markdown",
   "id": "b493210c",
   "metadata": {},
   "source": [
    "# Try to write a usecase of python with your understanding .\n",
    "'''1.Data Science.\n",
    "2.Artificial Intelligence. \n",
    "3.Web Scraping. \n",
    "4.Web application development.\n",
    "5.Game development. \n",
    "6.Internet of Things. \n",
    "7.Desktop GUI. \n",
    "8.Enterprise applications.'''"
   ]
  },
  {
   "cell_type": "code",
   "execution_count": null,
   "id": "4f86e55f",
   "metadata": {},
   "outputs": [],
   "source": []
  },
  {
   "cell_type": "code",
   "execution_count": null,
   "id": "e9afc1d5",
   "metadata": {},
   "outputs": [],
   "source": []
  },
  {
   "cell_type": "code",
   "execution_count": null,
   "id": "41bcf6f9",
   "metadata": {},
   "outputs": [],
   "source": []
  }
 ],
 "metadata": {
  "kernelspec": {
   "display_name": "Python 3",
   "language": "python",
   "name": "python3"
  },
  "language_info": {
   "codemirror_mode": {
    "name": "ipython",
    "version": 3
   },
   "file_extension": ".py",
   "mimetype": "text/x-python",
   "name": "python",
   "nbconvert_exporter": "python",
   "pygments_lexer": "ipython3",
   "version": "3.8.8"
  }
 },
 "nbformat": 4,
 "nbformat_minor": 5
}
